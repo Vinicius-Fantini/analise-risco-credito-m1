{
 "cells": [
  {
   "cell_type": "code",
   "execution_count": 1,
   "id": "dead05f5-915b-40b1-b98a-39d973b0132e",
   "metadata": {},
   "outputs": [],
   "source": [
    "import pandas as pd\n",
    "from sklearn.impute import SimpleImputer\n",
    "from sklearn.preprocessing import StandardScaler\n",
    "import os\n",
    "os.chdir('/Users/fantini1999/analise-risco-credito-m1')\n",
    "df = pd.read_csv('data/processed/train_clean.csv')"
   ]
  },
  {
   "cell_type": "code",
   "execution_count": 3,
   "id": "b77ee96f-1219-409a-ae59-ea2f93375c22",
   "metadata": {},
   "outputs": [
    {
     "name": "stdout",
     "output_type": "stream",
     "text": [
      "Id                                      0\n",
      "SeriousDlqin2yrs                        0\n",
      "RevolvingUtilizationOfUnsecuredLines    0\n",
      "age                                     0\n",
      "NumberOfTime30-59DaysPastDueNotWorse    0\n",
      "DebtRatio                               0\n",
      "MonthlyIncome                           0\n",
      "NumberOfOpenCreditLinesAndLoans         0\n",
      "NumberOfTimes90DaysLate                 0\n",
      "NumberRealEstateLoansOrLines            0\n",
      "NumberOfTime60-89DaysPastDueNotWorse    0\n",
      "NumberOfDependents                      0\n",
      "dtype: int64\n",
      "Pré-processamento concluído.\n"
     ]
    }
   ],
   "source": [
    "# Verificar dados faltantes\n",
    "print(df.isnull().sum())\n",
    "\n",
    "# Remover colunas que não fazem sentido ou têm muitos valores ausentes (exemplo)\n",
    "df = df.drop(columns=['Unnamed: 0'], errors='ignore')\n",
    "\n",
    "# Preenchimento de valores ausentes (ex: com mediana)\n",
    "imputer = SimpleImputer(strategy='median')\n",
    "df_imputado = pd.DataFrame(imputer.fit_transform(df), columns=df.columns)\n",
    "\n",
    "# Escalonamento (padronização)\n",
    "scaler = StandardScaler()\n",
    "df_scaled = pd.DataFrame(scaler.fit_transform(df_imputado), columns=df.columns)\n",
    "\n",
    "# Salvar dataset pré-processado\n",
    "df_scaled.to_csv('data/processed/train_clean.csv', index=False)\n",
    "print(\"Pré-processamento concluído.\")"
   ]
  },
  {
   "cell_type": "code",
   "execution_count": null,
   "id": "c2e05587-937f-40d3-b73d-cbaeb0fd23fa",
   "metadata": {},
   "outputs": [],
   "source": []
  }
 ],
 "metadata": {
  "kernelspec": {
   "display_name": "Python [conda env:base] *",
   "language": "python",
   "name": "conda-base-py"
  },
  "language_info": {
   "codemirror_mode": {
    "name": "ipython",
    "version": 3
   },
   "file_extension": ".py",
   "mimetype": "text/x-python",
   "name": "python",
   "nbconvert_exporter": "python",
   "pygments_lexer": "ipython3",
   "version": "3.12.7"
  }
 },
 "nbformat": 4,
 "nbformat_minor": 5
}
