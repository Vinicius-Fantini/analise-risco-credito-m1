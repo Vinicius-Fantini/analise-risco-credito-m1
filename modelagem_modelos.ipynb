{
 "cells": [
  {
   "cell_type": "code",
   "execution_count": 1,
   "id": "ac43ffff-e424-4383-96fb-162730da6260",
   "metadata": {},
   "outputs": [],
   "source": [
    "import pandas as pd\n",
    "from sklearn.model_selection import train_test_split\n",
    "from sklearn.preprocessing import StandardScaler\n",
    "from sklearn.linear_model import LogisticRegression\n",
    "from sklearn.ensemble import RandomForestClassifier\n",
    "from sklearn.metrics import classification_report, confusion_matrix, roc_auc_score\n",
    "import os\n",
    "os.chdir('/Users/fantini1999/analise-risco-credito-m1')\n",
    "df = pd.read_csv('data/processed/train_clean.csv')"
   ]
  },
  {
   "cell_type": "code",
   "execution_count": 5,
   "id": "0dc6e581-d26a-47c9-8cea-a89037bd1e52",
   "metadata": {},
   "outputs": [
    {
     "name": "stdout",
     "output_type": "stream",
     "text": [
      "== Regressão Logística ==\n",
      "Relatório de Classificação:\n",
      "              precision    recall  f1-score   support\n",
      "\n",
      "           0       0.94      1.00      0.97     19571\n",
      "           3       0.56      0.04      0.07      1390\n",
      "\n",
      "    accuracy                           0.93     20961\n",
      "   macro avg       0.75      0.52      0.52     20961\n",
      "weighted avg       0.91      0.93      0.91     20961\n",
      "\n",
      "Matriz de Confusão:\n",
      "[[19529    42]\n",
      " [ 1336    54]]\n",
      "AUC: 0.6876796125819696\n",
      "\n",
      "== Random Forest ==\n",
      "Relatório de Classificação:\n",
      "              precision    recall  f1-score   support\n",
      "\n",
      "           0       0.94      0.99      0.97     19571\n",
      "           3       0.54      0.17      0.26      1390\n",
      "\n",
      "    accuracy                           0.94     20961\n",
      "   macro avg       0.74      0.58      0.61     20961\n",
      "weighted avg       0.92      0.94      0.92     20961\n",
      "\n",
      "Matriz de Confusão:\n",
      "[[19376   195]\n",
      " [ 1158   232]]\n",
      "AUC: 0.8400202325493342\n"
     ]
    }
   ],
   "source": [
    "X = df.drop(\"SeriousDlqin2yrs\", axis=1)\n",
    "y = df[\"SeriousDlqin2yrs\"]\n",
    "\n",
    "X_train, X_test, y_train, y_test = train_test_split(X, y, test_size=0.2, random_state=42, stratify=y)\n",
    "\n",
    "y_train = y_train.astype(int)\n",
    "y_test = y_test.astype(int)\n",
    "\n",
    "scaler = StandardScaler()\n",
    "X_train_scaled = scaler.fit_transform(X_train)\n",
    "X_test_scaled = scaler.transform(X_test)\n",
    "\n",
    "logreg = LogisticRegression()\n",
    "logreg.fit(X_train_scaled, y_train)\n",
    "\n",
    "rf = RandomForestClassifier(n_estimators=100, random_state=42)\n",
    "rf.fit(X_train, y_train)\n",
    "\n",
    "def avaliar_modelo(modelo, X_teste, y_teste):\n",
    "    y_pred = modelo.predict(X_teste)\n",
    "    y_prob = modelo.predict_proba(X_teste)[:,1] if hasattr(modelo, \"predict_proba\") else None\n",
    "\n",
    "    print(\"Relatório de Classificação:\")\n",
    "    print(classification_report(y_teste, y_pred))\n",
    "    print(\"Matriz de Confusão:\")\n",
    "    print(confusion_matrix(y_teste, y_pred))\n",
    "    if y_prob is not None:\n",
    "        print(\"AUC:\", roc_auc_score(y_teste, y_prob))\n",
    "\n",
    "print(\"== Regressão Logística ==\")\n",
    "avaliar_modelo(logreg, X_test_scaled, y_test)\n",
    "\n",
    "print(\"\\n== Random Forest ==\")\n",
    "avaliar_modelo(rf, X_test, y_test)"
   ]
  },
  {
   "cell_type": "code",
   "execution_count": null,
   "id": "c42bbd5d-6fb5-425b-95c6-c219df3b37e4",
   "metadata": {},
   "outputs": [],
   "source": []
  }
 ],
 "metadata": {
  "kernelspec": {
   "display_name": "Python [conda env:base] *",
   "language": "python",
   "name": "conda-base-py"
  },
  "language_info": {
   "codemirror_mode": {
    "name": "ipython",
    "version": 3
   },
   "file_extension": ".py",
   "mimetype": "text/x-python",
   "name": "python",
   "nbconvert_exporter": "python",
   "pygments_lexer": "ipython3",
   "version": "3.12.7"
  }
 },
 "nbformat": 4,
 "nbformat_minor": 5
}
